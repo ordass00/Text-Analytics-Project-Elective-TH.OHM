{
 "cells": [
  {
   "cell_type": "markdown",
   "metadata": {
    "pycharm": {
     "name": "#%% md\n"
    }
   },
   "source": [
    "# Download der Analysedaten\n",
    "\n",
    "Um unsere Analysen ausführen zu können, benötigen wir einen passenden Datensatz.\n",
    "Wir wollen dafür die Beiträge und Kommentare aus dem Cyberpunk Subreddit extrahieren.\n",
    "<hr/>"
   ]
  },
  {
   "cell_type": "markdown",
   "metadata": {},
   "source": [
    "Als Erstes importieren wir alle packages, die wir im Notebook benötigen."
   ]
  },
  {
   "cell_type": "code",
   "execution_count": 3,
   "metadata": {
    "pycharm": {
     "name": "#%%\n"
    }
   },
   "outputs": [],
   "source": [
    "import sqlite3\n",
    "import pandas as pd\n",
    "import requests\n",
    "from datetime import datetime, timedelta\n",
    "import time\n",
    "import json\n",
    "import praw"
   ]
  },
  {
   "cell_type": "markdown",
   "metadata": {},
   "source": [
    "Wir definieren uns jetzt noch zwei Funktionen zum Laden von Tabellen in DataFrames und Speichern von Dataframes in\n",
    "Tabellen."
   ]
  },
  {
   "cell_type": "code",
   "execution_count": 10,
   "metadata": {
    "pycharm": {
     "name": "#%%\n"
    }
   },
   "outputs": [],
   "source": [
    "def pd_read_sql(database, sql):\n",
    "    with sqlite3.connect(database) as con:\n",
    "        df = pd.read_sql_query(sql, con, )\n",
    "        return df\n",
    "\n",
    "def pd_write_sql(database, table, df):\n",
    "    with sqlite3.connect(database) as con:\n",
    "        df.to_sql(table, con, index=False, if_exists='replace')"
   ]
  },
  {
   "cell_type": "markdown",
   "metadata": {},
   "source": [
    "Im Folgenden werden wir die [Pushshift Api](https://pushshift.io/) und Reddit API\n",
    "[PRAW](https://github.com/praw-dev/praw) benutzen.\n",
    "\n",
    "Die Pushshift API ermöglicht uns,\n",
    "Beiträge zu einem gewissen Zeitraum herunterzuladen, was die PRAW API nicht kann. Dafür benutzt die Pushshift API\n",
    "abgespeicherte Einträge. Das Problem dieser Vorgehensweise ist, dass wenn man Kommentare herunterladen möchte, nur ein\n",
    "sehr geringer Teil bzw. zu viele Kommentare heruntergeladen werden, da die Speichereinträge veraltet sind.\n",
    "Zum Beispiel gibt es bei diesem\n",
    "[Beitrag](https://www.reddit.com/r/cyberpunkgame/comments/kfba3u/megathread_sonyplaystation_will_offer_full/)\n",
    "laut unserer submissions Tabelle (wird gleich noch erstellt) insgesamt 49,7k Kommentare. Schaut man sich jetzt aber\n",
    "den Link an, sind es nur noch 37,4k Kommentare, da anscheinend viele gelöscht wurden.\n",
    "\n",
    "\n",
    "Um genauere Werte zu erhalten, benutzen wir jetzt PRAW, weil diese API direkt über Reddit geht und damit genauere\n",
    "Ergebnisse liefert (wurde händisch mit zufälligen Beiträgen überprüft).\n",
    "<hr/>"
   ]
  },
  {
   "cell_type": "markdown",
   "metadata": {},
   "source": [
    "Jetzt definieren uns eine Funktion, die alle Subreddit Beiträge im Zeitraum 10-09-2020 bis 10-03-2021, also\n",
    "drei Monate vor und nach Release, herunterlädt.\n",
    "\n",
    "Als Vorlage dient dazu die *downloadFromUrl* Funktion von Watchful1\n",
    "[Github Link zur Funktion](https://github.com/Watchful1/Sketchpad/blob/master/postDownloader.py).\n",
    "Außerdem machen wir folgende Einschränkungen beim Herunterladen:\n",
    " * Keine Beiträge über 18\n",
    " * Keine Beiträge, die Spoiler enthalten\n",
    " * Keine Beiträge mit Contest Mode\n",
    "\n",
    "Am Ende werden von den Beiträgen folgende Werte gespeichert:\n",
    " * Beitrags Id\n",
    " * Autor\n",
    " * Titel\n",
    " * Text\n",
    " * Datum im UTC Format\n",
    " * Anzahl Kommentare\n",
    " * Ob der Beitrag gesperrt wurde\n",
    " * Link zum Beitrag"
   ]
  },
  {
   "cell_type": "code",
   "execution_count": 8,
   "metadata": {
    "pycharm": {
     "name": "#%%\n"
    }
   },
   "outputs": [],
   "source": [
    "def downloadSubmissions(subreddit_name):\n",
    "    topics_dict = {\"id\": [],\n",
    "                   \"author\": [],\n",
    "                   \"title\": [],\n",
    "                   \"selftext\": [],\n",
    "                   \"created_utc\": [],\n",
    "                   \"num_comments\": [],\n",
    "                   \"locked\": [],\n",
    "                   \"full_link\": []\n",
    "                   }\n",
    "\n",
    "    url = \"https://api.pushshift.io/reddit/search/{}/?size=10&sort=desc&sort_type=num_comments&subreddit={}&before={}\" \\\n",
    "          \"&after={}&over_18=false&spoiler=false&contest_mode=false\"\n",
    "\n",
    "    date_time_str = '18/03/21 00:00:00'\n",
    "    start_time = datetime.strptime(date_time_str, '%d/%m/%y %H:%M:%S')\n",
    "\n",
    "    for i in range(0, 26):\n",
    "        start_time = start_time - timedelta(days=7)\n",
    "        end_time = start_time - timedelta(days=7)\n",
    "        print(\"START:\")\n",
    "        print(start_time)\n",
    "        print(\"END:\")\n",
    "        print(end_time)\n",
    "        start_epoch = int(start_time.timestamp())\n",
    "        end_epoch = int(end_time.timestamp())\n",
    "        new_url = url.format(\"submission\", subreddit_name, str(start_epoch), str(end_epoch))\n",
    "        json_text = requests.get(new_url, headers={'User-Agent': \"Post downloader by /u/Watchful1\"})\n",
    "        time.sleep(1)\n",
    "\n",
    "        try:\n",
    "            json_data = json_text.json()\n",
    "        except json.decoder.JSONDecodeError:\n",
    "            time.sleep(1)\n",
    "            continue\n",
    "        if 'data' not in json_data:\n",
    "            continue\n",
    "        objects = json_data['data']\n",
    "        if len(objects) == 0:\n",
    "            continue\n",
    "        for object in objects:\n",
    "            try:\n",
    "                topics_dict[\"id\"].append(object[\"id\"])\n",
    "                topics_dict[\"author\"].append(object[\"author\"])\n",
    "                topics_dict[\"title\"].append(object[\"title\"])\n",
    "                topics_dict[\"selftext\"].append(object[\"selftext\"])\n",
    "                topics_dict[\"created_utc\"].append(datetime.fromtimestamp(object['created_utc']).strftime(\"%Y-%m-%d\"))\n",
    "                topics_dict[\"num_comments\"].append(object[\"num_comments\"])\n",
    "                topics_dict[\"locked\"].append(object[\"locked\"])\n",
    "                topics_dict[\"full_link\"].append(object[\"full_link\"])\n",
    "            except Exception as err:\n",
    "                print(\"Unexpected exception\")\n",
    "\n",
    "    submissions_df = pd.DataFrame(topics_dict)\n",
    "    pd_write_sql(\"comments.sqlite\", \"submissions\", submissions_df)"
   ]
  },
  {
   "cell_type": "markdown",
   "metadata": {},
   "source": [
    "Aufruf der Funktion (braucht ein paar Minuten):"
   ]
  },
  {
   "cell_type": "code",
   "execution_count": 11,
   "metadata": {
    "pycharm": {
     "name": "#%%\n"
    }
   },
   "outputs": [
    {
     "name": "stdout",
     "output_type": "stream",
     "text": [
      "START:\n",
      "2021-03-11 00:00:00\n",
      "END:\n",
      "2021-03-04 00:00:00\n",
      "START:\n",
      "2021-03-04 00:00:00\n",
      "END:\n",
      "2021-02-25 00:00:00\n",
      "START:\n",
      "2021-02-25 00:00:00\n",
      "END:\n",
      "2021-02-18 00:00:00\n",
      "START:\n",
      "2021-02-18 00:00:00\n",
      "END:\n",
      "2021-02-11 00:00:00\n",
      "START:\n",
      "2021-02-11 00:00:00\n",
      "END:\n",
      "2021-02-04 00:00:00\n",
      "START:\n",
      "2021-02-04 00:00:00\n",
      "END:\n",
      "2021-01-28 00:00:00\n",
      "START:\n",
      "2021-01-28 00:00:00\n",
      "END:\n",
      "2021-01-21 00:00:00\n",
      "START:\n",
      "2021-01-21 00:00:00\n",
      "END:\n",
      "2021-01-14 00:00:00\n",
      "START:\n",
      "2021-01-14 00:00:00\n",
      "END:\n",
      "2021-01-07 00:00:00\n",
      "START:\n",
      "2021-01-07 00:00:00\n",
      "END:\n",
      "2020-12-31 00:00:00\n",
      "START:\n",
      "2020-12-31 00:00:00\n",
      "END:\n",
      "2020-12-24 00:00:00\n",
      "START:\n",
      "2020-12-24 00:00:00\n",
      "END:\n",
      "2020-12-17 00:00:00\n",
      "START:\n",
      "2020-12-17 00:00:00\n",
      "END:\n",
      "2020-12-10 00:00:00\n",
      "START:\n",
      "2020-12-10 00:00:00\n",
      "END:\n",
      "2020-12-03 00:00:00\n",
      "START:\n",
      "2020-12-03 00:00:00\n",
      "END:\n",
      "2020-11-26 00:00:00\n",
      "START:\n",
      "2020-11-26 00:00:00\n",
      "END:\n",
      "2020-11-19 00:00:00\n",
      "START:\n",
      "2020-11-19 00:00:00\n",
      "END:\n",
      "2020-11-12 00:00:00\n",
      "START:\n",
      "2020-11-12 00:00:00\n",
      "END:\n",
      "2020-11-05 00:00:00\n",
      "START:\n",
      "2020-11-05 00:00:00\n",
      "END:\n",
      "2020-10-29 00:00:00\n",
      "START:\n",
      "2020-10-29 00:00:00\n",
      "END:\n",
      "2020-10-22 00:00:00\n",
      "START:\n",
      "2020-10-22 00:00:00\n",
      "END:\n",
      "2020-10-15 00:00:00\n",
      "START:\n",
      "2020-10-15 00:00:00\n",
      "END:\n",
      "2020-10-08 00:00:00\n",
      "START:\n",
      "2020-10-08 00:00:00\n",
      "END:\n",
      "2020-10-01 00:00:00\n",
      "START:\n",
      "2020-10-01 00:00:00\n",
      "END:\n",
      "2020-09-24 00:00:00\n",
      "START:\n",
      "2020-09-24 00:00:00\n",
      "END:\n",
      "2020-09-17 00:00:00\n",
      "START:\n",
      "2020-09-17 00:00:00\n",
      "END:\n",
      "2020-09-10 00:00:00\n"
     ]
    },
    {
     "data": {
      "text/html": [
       "<div>\n",
       "<style scoped>\n",
       "    .dataframe tbody tr th:only-of-type {\n",
       "        vertical-align: middle;\n",
       "    }\n",
       "\n",
       "    .dataframe tbody tr th {\n",
       "        vertical-align: top;\n",
       "    }\n",
       "\n",
       "    .dataframe thead th {\n",
       "        text-align: right;\n",
       "    }\n",
       "</style>\n",
       "<table border=\"1\" class=\"dataframe\">\n",
       "  <thead>\n",
       "    <tr style=\"text-align: right;\">\n",
       "      <th></th>\n",
       "      <th>id</th>\n",
       "      <th>author</th>\n",
       "      <th>title</th>\n",
       "      <th>selftext</th>\n",
       "      <th>created_utc</th>\n",
       "      <th>num_comments</th>\n",
       "      <th>locked</th>\n",
       "      <th>full_link</th>\n",
       "    </tr>\n",
       "  </thead>\n",
       "  <tbody>\n",
       "    <tr>\n",
       "      <th>6</th>\n",
       "      <td>lxj21o</td>\n",
       "      <td>pablo397</td>\n",
       "      <td>You have to admit - the level of detail is ama...</td>\n",
       "      <td></td>\n",
       "      <td>2021-03-04</td>\n",
       "      <td>204</td>\n",
       "      <td>0</td>\n",
       "      <td>https://www.reddit.com/r/cyberpunkgame/comment...</td>\n",
       "    </tr>\n",
       "    <tr>\n",
       "      <th>147</th>\n",
       "      <td>k1n0zt</td>\n",
       "      <td>MLGABEN</td>\n",
       "      <td>I come from the future. Here's a picture of th...</td>\n",
       "      <td></td>\n",
       "      <td>2020-11-26</td>\n",
       "      <td>877</td>\n",
       "      <td>0</td>\n",
       "      <td>https://www.reddit.com/r/cyberpunkgame/comment...</td>\n",
       "    </tr>\n",
       "    <tr>\n",
       "      <th>231</th>\n",
       "      <td>j2jfkd</td>\n",
       "      <td>cupcakes234</td>\n",
       "      <td>Official Statement from Head of Studio CDPR, A...</td>\n",
       "      <td></td>\n",
       "      <td>2020-09-30</td>\n",
       "      <td>777</td>\n",
       "      <td>0</td>\n",
       "      <td>https://www.reddit.com/r/cyberpunkgame/comment...</td>\n",
       "    </tr>\n",
       "    <tr>\n",
       "      <th>210</th>\n",
       "      <td>j9kkxs</td>\n",
       "      <td>CyberpunkReddit</td>\n",
       "      <td>PC Specs Megathread - Please use this thread t...</td>\n",
       "      <td>Hey Choombas\\n\\nDuring Night City Wire Epi...</td>\n",
       "      <td>2020-10-12</td>\n",
       "      <td>701</td>\n",
       "      <td>0</td>\n",
       "      <td>https://www.reddit.com/r/cyberpunkgame/comment...</td>\n",
       "    </tr>\n",
       "    <tr>\n",
       "      <th>47</th>\n",
       "      <td>lgps95</td>\n",
       "      <td>LozengeWarrior</td>\n",
       "      <td>I still can't get over these reflections</td>\n",
       "      <td></td>\n",
       "      <td>2021-02-10</td>\n",
       "      <td>207</td>\n",
       "      <td>0</td>\n",
       "      <td>https://www.reddit.com/r/cyberpunkgame/comment...</td>\n",
       "    </tr>\n",
       "  </tbody>\n",
       "</table>\n",
       "</div>"
      ],
      "text/plain": [
       "         id           author  \\\n",
       "6    lxj21o         pablo397   \n",
       "147  k1n0zt          MLGABEN   \n",
       "231  j2jfkd      cupcakes234   \n",
       "210  j9kkxs  CyberpunkReddit   \n",
       "47   lgps95   LozengeWarrior   \n",
       "\n",
       "                                                 title  \\\n",
       "6    You have to admit - the level of detail is ama...   \n",
       "147  I come from the future. Here's a picture of th...   \n",
       "231  Official Statement from Head of Studio CDPR, A...   \n",
       "210  PC Specs Megathread - Please use this thread t...   \n",
       "47            I still can't get over these reflections   \n",
       "\n",
       "                                              selftext created_utc  \\\n",
       "6                                                       2021-03-04   \n",
       "147                                                     2020-11-26   \n",
       "231                                                     2020-09-30   \n",
       "210      Hey Choombas\\n\\nDuring Night City Wire Epi...  2020-10-12   \n",
       "47                                                      2021-02-10   \n",
       "\n",
       "     num_comments  locked                                          full_link  \n",
       "6             204       0  https://www.reddit.com/r/cyberpunkgame/comment...  \n",
       "147           877       0  https://www.reddit.com/r/cyberpunkgame/comment...  \n",
       "231           777       0  https://www.reddit.com/r/cyberpunkgame/comment...  \n",
       "210           701       0  https://www.reddit.com/r/cyberpunkgame/comment...  \n",
       "47            207       0  https://www.reddit.com/r/cyberpunkgame/comment...  "
      ]
     },
     "execution_count": 11,
     "metadata": {},
     "output_type": "execute_result"
    }
   ],
   "source": [
    "downloadSubmissions(\"cyberpunkgame\")"
   ]
  },
  {
   "cell_type": "markdown",
   "metadata": {},
   "source": [
    "Anzeigen der heruntergeladenen Daten:"
   ]
  },
  {
   "cell_type": "code",
   "execution_count": null,
   "metadata": {
    "pycharm": {
     "name": "#%%\n"
    }
   },
   "outputs": [],
   "source": [
    "df = pd_read_sql(\"comments.sqlite\", \"SELECT * From submissions\")\n",
    "df.sample(5)"
   ]
  },
  {
   "cell_type": "markdown",
   "metadata": {},
   "source": [
    "Jetzt möchten wir die passenden Kommentare zu den Beiträgen herunterladen. Dazu definieren wir uns eine neue Funktion."
   ]
  },
  {
   "cell_type": "code",
   "execution_count": null,
   "metadata": {
    "pycharm": {
     "name": "#%%\n"
    }
   },
   "outputs": [],
   "source": [
    "def downloadComments():\n",
    "    reddit = praw.Reddit(\n",
    "        client_id=\"6TyfTZDOVae7MA\",\n",
    "        client_secret=\"NczDzlwURjdTlSItS_s6LxToLqkURA\",\n",
    "        user_agent=\"pc:6TyfTZDOVae7MA:1.0.0 by (by /u/ArminShinobi)\",\n",
    "        username=\"ArminShinobi\",\n",
    "        password=\"doHsoh-wuqry6-mibraq\"\n",
    "    )\n",
    "\n",
    "    submissions_df = pd_read_sql(\"submissions.sqlite\", \"SELECT id FROM submissions\")\n",
    "\n",
    "    topics_dict = {\n",
    "        \"id\": [],\n",
    "        \"author\": [],\n",
    "        \"body\": [],\n",
    "        \"created_utc\": [],\n",
    "        \"score\": [],\n",
    "        \"parent_id\": [],\n",
    "        \"full_link\": [],\n",
    "        \"submission_id\": []\n",
    "    }\n",
    "\n",
    "    i = 0\n",
    "    for submission_id in submissions_df[\"id\"]:\n",
    "        time.sleep(2)\n",
    "        print(\"Current run: \" + str(i))\n",
    "        i += 1\n",
    "        submission = reddit.submission(submission_id)\n",
    "        submission.comments.replace_more(limit=None)\n",
    "        comments = submission.comments.list()\n",
    "        for comment in comments:\n",
    "            topics_dict[\"id\"].append(comment.id)\n",
    "            topics_dict[\"author\"].append(str(comment.author))\n",
    "            topics_dict[\"body\"].append(comment.body)\n",
    "            topics_dict[\"created_utc\"].append(datetime.fromtimestamp(comment.created_utc).strftime(\"%Y-%m-%d\"))\n",
    "            topics_dict[\"score\"].append(comment.score)\n",
    "            topics_dict[\"parent_id\"].append(comment.parent_id)\n",
    "            topics_dict[\"full_link\"].append(\"https://www.reddit.com\" + comment.permalink)\n",
    "            topics_dict[\"submission_id\"].append(submission_id)\n",
    "\n",
    "    comments_df = pd.DataFrame(topics_dict)\n",
    "    pd_write_sql(\"comments.sqlite\", \"comments\", comments_df)"
   ]
  },
  {
   "cell_type": "markdown",
   "metadata": {},
   "source": [
    "Aufruf der Funktion (dauert ein halben Tag. Um das Ergebnis zu sehen bitte zur nächsten Zelle springen):"
   ]
  },
  {
   "cell_type": "code",
   "execution_count": null,
   "metadata": {
    "pycharm": {
     "name": "#%%\n"
    }
   },
   "outputs": [],
   "source": [
    "downloadComments()"
   ]
  },
  {
   "cell_type": "markdown",
   "metadata": {},
   "source": [
    "Anzeigen der heruntergeladenen Daten:"
   ]
  },
  {
   "cell_type": "code",
   "execution_count": 12,
   "metadata": {
    "pycharm": {
     "name": "#%%\n"
    }
   },
   "outputs": [
    {
     "data": {
      "text/html": [
       "<div>\n",
       "<style scoped>\n",
       "    .dataframe tbody tr th:only-of-type {\n",
       "        vertical-align: middle;\n",
       "    }\n",
       "\n",
       "    .dataframe tbody tr th {\n",
       "        vertical-align: top;\n",
       "    }\n",
       "\n",
       "    .dataframe thead th {\n",
       "        text-align: right;\n",
       "    }\n",
       "</style>\n",
       "<table border=\"1\" class=\"dataframe\">\n",
       "  <thead>\n",
       "    <tr style=\"text-align: right;\">\n",
       "      <th></th>\n",
       "      <th>id</th>\n",
       "      <th>author</th>\n",
       "      <th>body</th>\n",
       "      <th>created_utc</th>\n",
       "      <th>score</th>\n",
       "      <th>parent_id</th>\n",
       "      <th>full_link</th>\n",
       "      <th>submission_id</th>\n",
       "    </tr>\n",
       "  </thead>\n",
       "  <tbody>\n",
       "    <tr>\n",
       "      <th>228279</th>\n",
       "      <td>gfl6ph0</td>\n",
       "      <td>eggnogui</td>\n",
       "      <td>Before you laugh, I'll tell you it passes the ...</td>\n",
       "      <td>2020-12-12</td>\n",
       "      <td>1</td>\n",
       "      <td>t1_gfj46j5</td>\n",
       "      <td>https://www.reddit.com/r/cyberpunkgame/comment...</td>\n",
       "      <td>kbcb3w</td>\n",
       "    </tr>\n",
       "    <tr>\n",
       "      <th>71659</th>\n",
       "      <td>gihiix8</td>\n",
       "      <td>linwail</td>\n",
       "      <td>Holy shit dude. Amazing</td>\n",
       "      <td>2021-01-08</td>\n",
       "      <td>1</td>\n",
       "      <td>t3_ksnuvo</td>\n",
       "      <td>https://www.reddit.com/r/cyberpunkgame/comment...</td>\n",
       "      <td>ksnuvo</td>\n",
       "    </tr>\n",
       "    <tr>\n",
       "      <th>310889</th>\n",
       "      <td>gf7wuyj</td>\n",
       "      <td>Dr_McKay</td>\n",
       "      <td>For me it was Black &amp; White, it was so bad tha...</td>\n",
       "      <td>2020-12-10</td>\n",
       "      <td>1</td>\n",
       "      <td>t1_gf7fhmv</td>\n",
       "      <td>https://www.reddit.com/r/cyberpunkgame/comment...</td>\n",
       "      <td>k9qjgt</td>\n",
       "    </tr>\n",
       "    <tr>\n",
       "      <th>204900</th>\n",
       "      <td>gfcddj4</td>\n",
       "      <td>MatthewPatience</td>\n",
       "      <td>I had the same issue until I changed clothes. ...</td>\n",
       "      <td>2020-12-11</td>\n",
       "      <td>2</td>\n",
       "      <td>t1_gfcd3to</td>\n",
       "      <td>https://www.reddit.com/r/cyberpunkgame/comment...</td>\n",
       "      <td>kahg96</td>\n",
       "    </tr>\n",
       "    <tr>\n",
       "      <th>69034</th>\n",
       "      <td>gjtc59b</td>\n",
       "      <td>Metemer</td>\n",
       "      <td>I'm no lawmaker but my main point being, we sh...</td>\n",
       "      <td>2021-01-19</td>\n",
       "      <td>1</td>\n",
       "      <td>t1_gjt9aek</td>\n",
       "      <td>https://www.reddit.com/r/cyberpunkgame/comment...</td>\n",
       "      <td>kwpwfn</td>\n",
       "    </tr>\n",
       "  </tbody>\n",
       "</table>\n",
       "</div>"
      ],
      "text/plain": [
       "             id           author  \\\n",
       "228279  gfl6ph0         eggnogui   \n",
       "71659   gihiix8          linwail   \n",
       "310889  gf7wuyj         Dr_McKay   \n",
       "204900  gfcddj4  MatthewPatience   \n",
       "69034   gjtc59b          Metemer   \n",
       "\n",
       "                                                     body created_utc  score  \\\n",
       "228279  Before you laugh, I'll tell you it passes the ...  2020-12-12      1   \n",
       "71659                             Holy shit dude. Amazing  2021-01-08      1   \n",
       "310889  For me it was Black & White, it was so bad tha...  2020-12-10      1   \n",
       "204900  I had the same issue until I changed clothes. ...  2020-12-11      2   \n",
       "69034   I'm no lawmaker but my main point being, we sh...  2021-01-19      1   \n",
       "\n",
       "         parent_id                                          full_link  \\\n",
       "228279  t1_gfj46j5  https://www.reddit.com/r/cyberpunkgame/comment...   \n",
       "71659    t3_ksnuvo  https://www.reddit.com/r/cyberpunkgame/comment...   \n",
       "310889  t1_gf7fhmv  https://www.reddit.com/r/cyberpunkgame/comment...   \n",
       "204900  t1_gfcd3to  https://www.reddit.com/r/cyberpunkgame/comment...   \n",
       "69034   t1_gjt9aek  https://www.reddit.com/r/cyberpunkgame/comment...   \n",
       "\n",
       "       submission_id  \n",
       "228279        kbcb3w  \n",
       "71659         ksnuvo  \n",
       "310889        k9qjgt  \n",
       "204900        kahg96  \n",
       "69034         kwpwfn  "
      ]
     },
     "execution_count": 12,
     "metadata": {},
     "output_type": "execute_result"
    }
   ],
   "source": [
    "df = pd_read_sql(\"comments.sqlite\", \"SELECT * From comments\")\n",
    "df.sample(5)"
   ]
  }
 ],
 "metadata": {
  "kernelspec": {
   "display_name": "Python 3",
   "language": "python",
   "name": "python3"
  },
  "language_info": {
   "codemirror_mode": {
    "name": "ipython",
    "version": 3
   },
   "file_extension": ".py",
   "mimetype": "text/x-python",
   "name": "python",
   "nbconvert_exporter": "python",
   "pygments_lexer": "ipython3",
   "version": "3.8.8"
  },
  "toc": {
   "base_numbering": 1,
   "nav_menu": {},
   "number_sections": true,
   "sideBar": true,
   "skip_h1_title": false,
   "title_cell": "Table of Contents",
   "title_sidebar": "Contents",
   "toc_cell": false,
   "toc_position": {},
   "toc_section_display": true,
   "toc_window_display": false
  }
 },
 "nbformat": 4,
 "nbformat_minor": 1
}

{
 "cells": [
  {
   "cell_type": "markdown",
   "metadata": {
    "pycharm": {
     "name": "#%% md\n"
    }
   },
   "source": [
    "# Download der Analysedaten\n",
    "\n",
    "Um unsere Analysen ausführen zu können, benötigen wir einen passenden Datensatz.\n",
    "Wir wollen dafür die Beiträge und Kommentare aus dem Cyberpunk Subreddit extrahieren.\n",
    "<hr/>"
   ]
  },
  {
   "cell_type": "markdown",
   "metadata": {},
   "source": [
    "Als Erstes importieren wir alle packages, die wir im Notebook benötigen."
   ]
  },
  {
   "cell_type": "code",
   "execution_count": 1,
   "metadata": {
    "ExecuteTime": {
     "end_time": "2021-06-20T14:46:36.484226Z",
     "start_time": "2021-06-20T14:46:35.484818Z"
    },
    "pycharm": {
     "name": "#%%\n"
    }
   },
   "outputs": [],
   "source": [
    "import sqlite3\n",
    "import pandas as pd\n",
    "import requests\n",
    "from datetime import datetime, timedelta\n",
    "import time\n",
    "import json\n",
    "import praw"
   ]
  },
  {
   "cell_type": "markdown",
   "metadata": {},
   "source": [
    "Wir definieren uns jetzt noch zwei Funktionen zum Laden von Tabellen in DataFrames und Speichern von DataFrames in\n",
    "Tabellen."
   ]
  },
  {
   "cell_type": "code",
   "execution_count": 2,
   "metadata": {
    "ExecuteTime": {
     "end_time": "2021-06-20T14:46:38.268572Z",
     "start_time": "2021-06-20T14:46:38.259597Z"
    },
    "pycharm": {
     "name": "#%%\n"
    }
   },
   "outputs": [],
   "source": [
    "def pd_read_sql(database, sql):\n",
    "    with sqlite3.connect(database) as con:\n",
    "        df = pd.read_sql_query(sql, con)\n",
    "        return df\n",
    "\n",
    "def pd_write_sql(database, table, df):\n",
    "    with sqlite3.connect(database) as con:\n",
    "        df.to_sql(table, con, index=False, if_exists='replace')"
   ]
  },
  {
   "cell_type": "markdown",
   "metadata": {},
   "source": [
    "Im Folgenden werden wir die [Pushshift Api](https://pushshift.io/) und Reddit API\n",
    "[PRAW](https://github.com/praw-dev/praw) benutzen.\n",
    "\n",
    "Die Pushshift API ermöglicht uns,\n",
    "Beiträge zu einem gewissen Zeitraum herunterzuladen, was die PRAW API nicht kann. Dafür benutzt die Pushshift API\n",
    "abgespeicherte Einträge. Das Problem dieser Vorgehensweise ist, dass wenn man Kommentare herunterladen möchte, nur ein\n",
    "sehr geringer Teil bzw. zu viele Kommentare heruntergeladen werden, da die Speichereinträge veraltet sind.\n",
    "Zum Beispiel gibt es bei diesem\n",
    "[Beitrag](https://www.reddit.com/r/cyberpunkgame/comments/kfba3u/megathread_sonyplaystation_will_offer_full/)\n",
    "laut unserer submissions Tabelle (wird gleich noch erstellt) insgesamt 49,7k Kommentare. Schaut man sich jetzt aber\n",
    "den Link an, sind es nur noch 37,3k Kommentare (Stand: 20.06.2021), da anscheinend viele gelöscht wurden.\n",
    "\n",
    "\n",
    "Um genauere Werte zu erhalten, benutzen wir jetzt PRAW, weil diese API direkt über Reddit geht und damit genauere\n",
    "Ergebnisse liefert (wurde händisch mit zufälligen Beiträgen überprüft).\n",
    "<hr/>"
   ]
  },
  {
   "cell_type": "markdown",
   "metadata": {},
   "source": [
    "Jetzt definieren wir uns eine Funktion, die die Top 10 Subreddit Beiträge innerhalb einer Woche im Zeitraum von 10-09-2020 bis 10-03-2021, also drei Monate vor und nach Release, herunterlädt.\n",
    "\n",
    "Als Vorlage dient dazu die *downloadFromUrl* Funktion von Watchful1\n",
    "[Github Link zur Funktion](https://github.com/Watchful1/Sketchpad/blob/master/postDownloader.py).\n",
    "Außerdem machen wir folgende Einschränkungen beim Herunterladen:\n",
    " * Keine Beiträge über 18\n",
    " * Keine Beiträge, die Spoiler enthalten\n",
    " * Keine Beiträge mit Contest Mode\n",
    "\n",
    "Am Ende werden von den Beiträgen folgende Werte gespeichert:\n",
    " * Beitrags Id\n",
    " * Autor\n",
    " * Titel\n",
    " * Text\n",
    " * Datum im UTC Format\n",
    " * Anzahl Kommentare\n",
    " * Ob der Beitrag gesperrt wurde\n",
    " * Link zum Beitrag"
   ]
  },
  {
   "cell_type": "code",
   "execution_count": 3,
   "metadata": {
    "ExecuteTime": {
     "end_time": "2021-06-20T14:46:46.863493Z",
     "start_time": "2021-06-20T14:46:46.849531Z"
    },
    "pycharm": {
     "name": "#%%\n"
    }
   },
   "outputs": [],
   "source": [
    "def downloadSubmissions(subreddit_name):\n",
    "    topics_dict = {\"id\": [],\n",
    "                   \"author\": [],\n",
    "                   \"title\": [],\n",
    "                   \"selftext\": [],\n",
    "                   \"created_utc\": [],\n",
    "                   \"num_comments\": [],\n",
    "                   \"locked\": [],\n",
    "                   \"full_link\": []\n",
    "                   }\n",
    "\n",
    "    url = \"https://api.pushshift.io/reddit/search/{}/?size=10&sort=desc&sort_type=num_comments&subreddit={}&before={}\" \\\n",
    "          \"&after={}&over_18=false&spoiler=false&contest_mode=false\"\n",
    "\n",
    "    date_time_str = '18/03/21 00:00:00'\n",
    "    start_time = datetime.strptime(date_time_str, '%d/%m/%y %H:%M:%S')\n",
    "\n",
    "    for i in range(0, 26):\n",
    "        start_time = start_time - timedelta(days=7)\n",
    "        end_time = start_time - timedelta(days=7)\n",
    "        print(\"START:\")\n",
    "        print(start_time)\n",
    "        print(\"END:\")\n",
    "        print(end_time)\n",
    "        start_epoch = int(start_time.timestamp())\n",
    "        end_epoch = int(end_time.timestamp())\n",
    "        new_url = url.format(\"submission\", subreddit_name, str(start_epoch), str(end_epoch))\n",
    "        json_text = requests.get(new_url, headers={'User-Agent': \"Post downloader by /u/Watchful1\"})\n",
    "        time.sleep(1)\n",
    "\n",
    "        try:\n",
    "            json_data = json_text.json()\n",
    "        except json.decoder.JSONDecodeError:\n",
    "            time.sleep(1)\n",
    "            continue\n",
    "        if 'data' not in json_data:\n",
    "            continue\n",
    "        objects = json_data['data']\n",
    "        if len(objects) == 0:\n",
    "            continue\n",
    "        for object in objects:\n",
    "            try:\n",
    "                topics_dict[\"id\"].append(object[\"id\"])\n",
    "                topics_dict[\"author\"].append(object[\"author\"])\n",
    "                topics_dict[\"title\"].append(object[\"title\"])\n",
    "                topics_dict[\"selftext\"].append(object[\"selftext\"])\n",
    "                topics_dict[\"created_utc\"].append(datetime.fromtimestamp(object['created_utc']).strftime(\"%Y-%m-%d\"))\n",
    "                topics_dict[\"num_comments\"].append(object[\"num_comments\"])\n",
    "                topics_dict[\"locked\"].append(object[\"locked\"])\n",
    "                topics_dict[\"full_link\"].append(object[\"full_link\"])\n",
    "            except Exception as err:\n",
    "                print(\"Unexpected exception\")\n",
    "\n",
    "    submissions_df = pd.DataFrame(topics_dict)\n",
    "    pd_write_sql(\"data.sqlite\", \"submissions\", submissions_df)"
   ]
  },
  {
   "cell_type": "markdown",
   "metadata": {},
   "source": [
    "Aufruf der Funktion (braucht ein paar Minuten):"
   ]
  },
  {
   "cell_type": "code",
   "execution_count": 4,
   "metadata": {
    "ExecuteTime": {
     "end_time": "2021-06-20T14:48:03.588344Z",
     "start_time": "2021-06-20T14:46:51.427740Z"
    },
    "pycharm": {
     "name": "#%%\n"
    }
   },
   "outputs": [
    {
     "name": "stdout",
     "output_type": "stream",
     "text": [
      "START:\n",
      "2021-03-11 00:00:00\n",
      "END:\n",
      "2021-03-04 00:00:00\n",
      "START:\n",
      "2021-03-04 00:00:00\n",
      "END:\n",
      "2021-02-25 00:00:00\n",
      "START:\n",
      "2021-02-25 00:00:00\n",
      "END:\n",
      "2021-02-18 00:00:00\n",
      "START:\n",
      "2021-02-18 00:00:00\n",
      "END:\n",
      "2021-02-11 00:00:00\n",
      "START:\n",
      "2021-02-11 00:00:00\n",
      "END:\n",
      "2021-02-04 00:00:00\n",
      "START:\n",
      "2021-02-04 00:00:00\n",
      "END:\n",
      "2021-01-28 00:00:00\n",
      "START:\n",
      "2021-01-28 00:00:00\n",
      "END:\n",
      "2021-01-21 00:00:00\n",
      "START:\n",
      "2021-01-21 00:00:00\n",
      "END:\n",
      "2021-01-14 00:00:00\n",
      "START:\n",
      "2021-01-14 00:00:00\n",
      "END:\n",
      "2021-01-07 00:00:00\n",
      "START:\n",
      "2021-01-07 00:00:00\n",
      "END:\n",
      "2020-12-31 00:00:00\n",
      "START:\n",
      "2020-12-31 00:00:00\n",
      "END:\n",
      "2020-12-24 00:00:00\n",
      "START:\n",
      "2020-12-24 00:00:00\n",
      "END:\n",
      "2020-12-17 00:00:00\n",
      "START:\n",
      "2020-12-17 00:00:00\n",
      "END:\n",
      "2020-12-10 00:00:00\n",
      "START:\n",
      "2020-12-10 00:00:00\n",
      "END:\n",
      "2020-12-03 00:00:00\n",
      "START:\n",
      "2020-12-03 00:00:00\n",
      "END:\n",
      "2020-11-26 00:00:00\n",
      "START:\n",
      "2020-11-26 00:00:00\n",
      "END:\n",
      "2020-11-19 00:00:00\n",
      "START:\n",
      "2020-11-19 00:00:00\n",
      "END:\n",
      "2020-11-12 00:00:00\n",
      "START:\n",
      "2020-11-12 00:00:00\n",
      "END:\n",
      "2020-11-05 00:00:00\n",
      "START:\n",
      "2020-11-05 00:00:00\n",
      "END:\n",
      "2020-10-29 00:00:00\n",
      "START:\n",
      "2020-10-29 00:00:00\n",
      "END:\n",
      "2020-10-22 00:00:00\n",
      "START:\n",
      "2020-10-22 00:00:00\n",
      "END:\n",
      "2020-10-15 00:00:00\n",
      "START:\n",
      "2020-10-15 00:00:00\n",
      "END:\n",
      "2020-10-08 00:00:00\n",
      "START:\n",
      "2020-10-08 00:00:00\n",
      "END:\n",
      "2020-10-01 00:00:00\n",
      "START:\n",
      "2020-10-01 00:00:00\n",
      "END:\n",
      "2020-09-24 00:00:00\n",
      "START:\n",
      "2020-09-24 00:00:00\n",
      "END:\n",
      "2020-09-17 00:00:00\n",
      "START:\n",
      "2020-09-17 00:00:00\n",
      "END:\n",
      "2020-09-10 00:00:00\n"
     ]
    }
   ],
   "source": [
    "downloadSubmissions(\"cyberpunkgame\")"
   ]
  },
  {
   "cell_type": "markdown",
   "metadata": {},
   "source": [
    "Anzeigen der heruntergeladenen Daten:"
   ]
  },
  {
   "cell_type": "code",
   "execution_count": 5,
   "metadata": {
    "pycharm": {
     "name": "#%%\n"
    }
   },
   "outputs": [
    {
     "data": {
      "text/html": [
       "<div>\n",
       "<style scoped>\n",
       "    .dataframe tbody tr th:only-of-type {\n",
       "        vertical-align: middle;\n",
       "    }\n",
       "\n",
       "    .dataframe tbody tr th {\n",
       "        vertical-align: top;\n",
       "    }\n",
       "\n",
       "    .dataframe thead th {\n",
       "        text-align: right;\n",
       "    }\n",
       "</style>\n",
       "<table border=\"1\" class=\"dataframe\">\n",
       "  <thead>\n",
       "    <tr style=\"text-align: right;\">\n",
       "      <th></th>\n",
       "      <th>id</th>\n",
       "      <th>author</th>\n",
       "      <th>title</th>\n",
       "      <th>selftext</th>\n",
       "      <th>created_utc</th>\n",
       "      <th>num_comments</th>\n",
       "      <th>locked</th>\n",
       "      <th>full_link</th>\n",
       "    </tr>\n",
       "  </thead>\n",
       "  <tbody>\n",
       "    <tr>\n",
       "      <th>146</th>\n",
       "      <td>k3ao7y</td>\n",
       "      <td>CL60</td>\n",
       "      <td>Cyberpunk 2077 Release Date in All Timezones.</td>\n",
       "      <td>*May be different by 1 hour, depending on exac...</td>\n",
       "      <td>2020-11-29</td>\n",
       "      <td>910</td>\n",
       "      <td>0</td>\n",
       "      <td>https://www.reddit.com/r/cyberpunkgame/comment...</td>\n",
       "    </tr>\n",
       "    <tr>\n",
       "      <th>216</th>\n",
       "      <td>j7zbt9</td>\n",
       "      <td>CheckingIsMyPriority</td>\n",
       "      <td>People from Game Informer reported citing CDPR...</td>\n",
       "      <td></td>\n",
       "      <td>2020-10-09</td>\n",
       "      <td>468</td>\n",
       "      <td>0</td>\n",
       "      <td>https://www.reddit.com/r/cyberpunkgame/comment...</td>\n",
       "    </tr>\n",
       "    <tr>\n",
       "      <th>141</th>\n",
       "      <td>k3obxq</td>\n",
       "      <td>AutoModerator</td>\n",
       "      <td>Newcomers look here! - FAQ &amp;amp; Simple Questi...</td>\n",
       "      <td>`Hey Choombas,`\\n\\nFeel free to use this threa...</td>\n",
       "      <td>2020-11-30</td>\n",
       "      <td>4313</td>\n",
       "      <td>0</td>\n",
       "      <td>https://www.reddit.com/r/cyberpunkgame/comment...</td>\n",
       "    </tr>\n",
       "    <tr>\n",
       "      <th>25</th>\n",
       "      <td>lrnxj4</td>\n",
       "      <td>ndim22</td>\n",
       "      <td>Going around the rollercoaster loop on a motor...</td>\n",
       "      <td></td>\n",
       "      <td>2021-02-24</td>\n",
       "      <td>481</td>\n",
       "      <td>0</td>\n",
       "      <td>https://www.reddit.com/r/cyberpunkgame/comment...</td>\n",
       "    </tr>\n",
       "    <tr>\n",
       "      <th>152</th>\n",
       "      <td>jzhflu</td>\n",
       "      <td>Ferninja</td>\n",
       "      <td>Ok all the horny boys on this sub need to chill</td>\n",
       "      <td>Jesus christ its like all I hear about is how ...</td>\n",
       "      <td>2020-11-23</td>\n",
       "      <td>2992</td>\n",
       "      <td>0</td>\n",
       "      <td>https://www.reddit.com/r/cyberpunkgame/comment...</td>\n",
       "    </tr>\n",
       "  </tbody>\n",
       "</table>\n",
       "</div>"
      ],
      "text/plain": [
       "         id                author  \\\n",
       "146  k3ao7y                  CL60   \n",
       "216  j7zbt9  CheckingIsMyPriority   \n",
       "141  k3obxq         AutoModerator   \n",
       "25   lrnxj4                ndim22   \n",
       "152  jzhflu              Ferninja   \n",
       "\n",
       "                                                 title  \\\n",
       "146      Cyberpunk 2077 Release Date in All Timezones.   \n",
       "216  People from Game Informer reported citing CDPR...   \n",
       "141  Newcomers look here! - FAQ &amp; Simple Questi...   \n",
       "25   Going around the rollercoaster loop on a motor...   \n",
       "152    Ok all the horny boys on this sub need to chill   \n",
       "\n",
       "                                              selftext created_utc  \\\n",
       "146  *May be different by 1 hour, depending on exac...  2020-11-29   \n",
       "216                                                     2020-10-09   \n",
       "141  `Hey Choombas,`\\n\\nFeel free to use this threa...  2020-11-30   \n",
       "25                                                      2021-02-24   \n",
       "152  Jesus christ its like all I hear about is how ...  2020-11-23   \n",
       "\n",
       "     num_comments  locked                                          full_link  \n",
       "146           910       0  https://www.reddit.com/r/cyberpunkgame/comment...  \n",
       "216           468       0  https://www.reddit.com/r/cyberpunkgame/comment...  \n",
       "141          4313       0  https://www.reddit.com/r/cyberpunkgame/comment...  \n",
       "25            481       0  https://www.reddit.com/r/cyberpunkgame/comment...  \n",
       "152          2992       0  https://www.reddit.com/r/cyberpunkgame/comment...  "
      ]
     },
     "execution_count": 5,
     "metadata": {},
     "output_type": "execute_result"
    }
   ],
   "source": [
    "df = pd_read_sql(\"data.sqlite\", \"SELECT * From submissions\")\n",
    "df.sample(5)"
   ]
  },
  {
   "cell_type": "markdown",
   "metadata": {},
   "source": [
    "Jetzt möchten wir die passenden Kommentare zu den Beiträgen herunterladen. Dazu definieren wir uns eine neue Funktion.\n",
    "\n",
    "Von den Kommentaren werden folgende Werte gespeichert:\n",
    "\n",
    " * Kommentar Id\n",
    " * Autor\n",
    " * Text\n",
    " * Datum im UTC Format\n",
    " * Score\n",
    " * Parent Id\n",
    " * Link zum Kommentar \n",
    " * Id des zugehörigen Beitrags"
   ]
  },
  {
   "cell_type": "code",
   "execution_count": null,
   "metadata": {
    "pycharm": {
     "name": "#%%\n"
    }
   },
   "outputs": [],
   "source": [
    "def downloadComments():\n",
    "    reddit = praw.Reddit(\n",
    "        #All real values are censored with 'SECRET VALUE'\n",
    "        client_id=\"SECRET VALUE\",\n",
    "        client_secret=\"SECRET VALUE\",\n",
    "        user_agent=\"SECRET VALUE\",\n",
    "        username=\"SECRET VALUE\",\n",
    "        password=\"SECRET VALUE\"\n",
    "    )\n",
    "\n",
    "    submissions_df = pd_read_sql(\"submissions.sqlite\", \"SELECT id FROM submissions\")\n",
    "\n",
    "    topics_dict = {\n",
    "        \"id\": [],\n",
    "        \"author\": [],\n",
    "        \"body\": [],\n",
    "        \"created_utc\": [],\n",
    "        \"score\": [],\n",
    "        \"parent_id\": [],\n",
    "        \"full_link\": [],\n",
    "        \"submission_id\": []\n",
    "    }\n",
    "\n",
    "    i = 0\n",
    "    for submission_id in submissions_df[\"id\"]:\n",
    "        time.sleep(2)\n",
    "        print(\"Current run: \" + str(i))\n",
    "        i += 1\n",
    "        submission = reddit.submission(submission_id)\n",
    "        submission.comments.replace_more(limit=None)\n",
    "        comments = submission.comments.list()\n",
    "        for comment in comments:\n",
    "            topics_dict[\"id\"].append(comment.id)\n",
    "            topics_dict[\"author\"].append(str(comment.author))\n",
    "            topics_dict[\"body\"].append(comment.body)\n",
    "            topics_dict[\"created_utc\"].append(datetime.fromtimestamp(comment.created_utc).strftime(\"%Y-%m-%d\"))\n",
    "            topics_dict[\"score\"].append(comment.score)\n",
    "            topics_dict[\"parent_id\"].append(comment.parent_id)\n",
    "            topics_dict[\"full_link\"].append(\"https://www.reddit.com\" + comment.permalink)\n",
    "            topics_dict[\"submission_id\"].append(submission_id)\n",
    "\n",
    "    comments_df = pd.DataFrame(topics_dict)\n",
    "    pd_write_sql(\"data.sqlite\", \"comments\", comments_df)"
   ]
  },
  {
   "cell_type": "markdown",
   "metadata": {},
   "source": [
    "Aufruf der Funktion (dauert einen halben Tag. Um das Ergebnis zu sehen, bitte zur nächsten Zelle springen):"
   ]
  },
  {
   "cell_type": "code",
   "execution_count": null,
   "metadata": {
    "pycharm": {
     "name": "#%%\n"
    }
   },
   "outputs": [],
   "source": [
    "downloadComments()"
   ]
  },
  {
   "cell_type": "markdown",
   "metadata": {},
   "source": [
    "Anzeigen der heruntergeladenen Daten:"
   ]
  },
  {
   "cell_type": "code",
   "execution_count": 7,
   "metadata": {
    "ExecuteTime": {
     "end_time": "2021-06-20T14:52:01.302000Z",
     "start_time": "2021-06-20T14:51:59.351219Z"
    },
    "pycharm": {
     "name": "#%%\n"
    }
   },
   "outputs": [
    {
     "data": {
      "text/html": [
       "<div>\n",
       "<style scoped>\n",
       "    .dataframe tbody tr th:only-of-type {\n",
       "        vertical-align: middle;\n",
       "    }\n",
       "\n",
       "    .dataframe tbody tr th {\n",
       "        vertical-align: top;\n",
       "    }\n",
       "\n",
       "    .dataframe thead th {\n",
       "        text-align: right;\n",
       "    }\n",
       "</style>\n",
       "<table border=\"1\" class=\"dataframe\">\n",
       "  <thead>\n",
       "    <tr style=\"text-align: right;\">\n",
       "      <th></th>\n",
       "      <th>id</th>\n",
       "      <th>author</th>\n",
       "      <th>body</th>\n",
       "      <th>created_utc</th>\n",
       "      <th>score</th>\n",
       "      <th>parent_id</th>\n",
       "      <th>full_link</th>\n",
       "      <th>submission_id</th>\n",
       "    </tr>\n",
       "  </thead>\n",
       "  <tbody>\n",
       "    <tr>\n",
       "      <th>335733</th>\n",
       "      <td>gf8y80i</td>\n",
       "      <td>poopf1nger</td>\n",
       "      <td>Hey there anyone with a 2080 super want to cha...</td>\n",
       "      <td>2020-12-10</td>\n",
       "      <td>2</td>\n",
       "      <td>t3_k0llf4</td>\n",
       "      <td>https://www.reddit.com/r/cyberpunkgame/comment...</td>\n",
       "      <td>k0llf4</td>\n",
       "    </tr>\n",
       "    <tr>\n",
       "      <th>378845</th>\n",
       "      <td>gahqzoi</td>\n",
       "      <td>OedipusNo</td>\n",
       "      <td>I'm pretty sure, I can't remember the source, ...</td>\n",
       "      <td>2020-10-29</td>\n",
       "      <td>3</td>\n",
       "      <td>t1_gahjpc0</td>\n",
       "      <td>https://www.reddit.com/r/cyberpunkgame/comment...</td>\n",
       "      <td>jk6mv5</td>\n",
       "    </tr>\n",
       "    <tr>\n",
       "      <th>326374</th>\n",
       "      <td>gfanmx0</td>\n",
       "      <td>heydaddio69</td>\n",
       "      <td>Thanks. Sorry.</td>\n",
       "      <td>2020-12-10</td>\n",
       "      <td>2</td>\n",
       "      <td>t1_gfankj1</td>\n",
       "      <td>https://www.reddit.com/r/cyberpunkgame/comment...</td>\n",
       "      <td>k3obxq</td>\n",
       "    </tr>\n",
       "    <tr>\n",
       "      <th>351167</th>\n",
       "      <td>gcvbzkq</td>\n",
       "      <td>Sermokala</td>\n",
       "      <td>And even in that world its competing with Go y...</td>\n",
       "      <td>2020-11-19</td>\n",
       "      <td>1</td>\n",
       "      <td>t1_gcuk5v2</td>\n",
       "      <td>https://www.reddit.com/r/cyberpunkgame/comment...</td>\n",
       "      <td>jx72zf</td>\n",
       "    </tr>\n",
       "    <tr>\n",
       "      <th>321395</th>\n",
       "      <td>gf3pkdz</td>\n",
       "      <td>deswesher</td>\n",
       "      <td>And are they lots of bugs and glitches like re...</td>\n",
       "      <td>2020-12-08</td>\n",
       "      <td>2</td>\n",
       "      <td>t1_gf3p8c5</td>\n",
       "      <td>https://www.reddit.com/r/cyberpunkgame/comment...</td>\n",
       "      <td>k2r53r</td>\n",
       "    </tr>\n",
       "  </tbody>\n",
       "</table>\n",
       "</div>"
      ],
      "text/plain": [
       "             id       author  \\\n",
       "335733  gf8y80i   poopf1nger   \n",
       "378845  gahqzoi    OedipusNo   \n",
       "326374  gfanmx0  heydaddio69   \n",
       "351167  gcvbzkq    Sermokala   \n",
       "321395  gf3pkdz    deswesher   \n",
       "\n",
       "                                                     body created_utc  score  \\\n",
       "335733  Hey there anyone with a 2080 super want to cha...  2020-12-10      2   \n",
       "378845  I'm pretty sure, I can't remember the source, ...  2020-10-29      3   \n",
       "326374                                     Thanks. Sorry.  2020-12-10      2   \n",
       "351167  And even in that world its competing with Go y...  2020-11-19      1   \n",
       "321395  And are they lots of bugs and glitches like re...  2020-12-08      2   \n",
       "\n",
       "         parent_id                                          full_link  \\\n",
       "335733   t3_k0llf4  https://www.reddit.com/r/cyberpunkgame/comment...   \n",
       "378845  t1_gahjpc0  https://www.reddit.com/r/cyberpunkgame/comment...   \n",
       "326374  t1_gfankj1  https://www.reddit.com/r/cyberpunkgame/comment...   \n",
       "351167  t1_gcuk5v2  https://www.reddit.com/r/cyberpunkgame/comment...   \n",
       "321395  t1_gf3p8c5  https://www.reddit.com/r/cyberpunkgame/comment...   \n",
       "\n",
       "       submission_id  \n",
       "335733        k0llf4  \n",
       "378845        jk6mv5  \n",
       "326374        k3obxq  \n",
       "351167        jx72zf  \n",
       "321395        k2r53r  "
      ]
     },
     "execution_count": 7,
     "metadata": {},
     "output_type": "execute_result"
    }
   ],
   "source": [
    "df = pd_read_sql(\"data.sqlite\", \"SELECT * From comments\")\n",
    "df.sample(5)"
   ]
  },
  {
   "cell_type": "markdown",
   "metadata": {},
   "source": [
    "## Quellen ##"
   ]
  },
  {
   "cell_type": "markdown",
   "metadata": {},
   "source": [
    " * https://pushshift.io/\n",
    " * https://github.com/praw-dev/praw\n",
    " * https://www.reddit.com/r/cyberpunkgame/comments/kfba3u/megathread_sonyplaystation_will_offer_full/"
   ]
  }
 ],
 "metadata": {
  "kernelspec": {
   "display_name": "Python 3",
   "language": "python",
   "name": "python3"
  },
  "language_info": {
   "codemirror_mode": {
    "name": "ipython",
    "version": 3
   },
   "file_extension": ".py",
   "mimetype": "text/x-python",
   "name": "python",
   "nbconvert_exporter": "python",
   "pygments_lexer": "ipython3",
   "version": "3.8.8"
  },
  "toc": {
   "base_numbering": 1,
   "nav_menu": {},
   "number_sections": true,
   "sideBar": true,
   "skip_h1_title": false,
   "title_cell": "Table of Contents",
   "title_sidebar": "Contents",
   "toc_cell": false,
   "toc_position": {},
   "toc_section_display": true,
   "toc_window_display": false
  }
 },
 "nbformat": 4,
 "nbformat_minor": 1
}
